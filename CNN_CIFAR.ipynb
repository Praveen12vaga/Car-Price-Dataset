{
 "cells": [
  {
   "cell_type": "code",
   "execution_count": 1,
   "metadata": {
    "colab": {
     "base_uri": "https://localhost:8080/"
    },
    "id": "pmNpq8GML1jW",
    "outputId": "56b350ce-694e-4e37-82cd-b3b42de86e4d"
   },
   "outputs": [
    {
     "name": "stdout",
     "output_type": "stream",
     "text": [
      "2.7.0\n"
     ]
    }
   ],
   "source": [
    "import tensorflow as tf\n",
    "print(tf.__version__)"
   ]
  },
  {
   "cell_type": "code",
   "execution_count": 2,
   "metadata": {
    "id": "cBJh6ib6MEIW"
   },
   "outputs": [],
   "source": [
    "# additional imports\n",
    "\n",
    "import numpy as np\n",
    "import matplotlib.pyplot as plt\n",
    "from tensorflow.keras.layers import Input, Conv2D, Dense, Flatten, Dropout, GlobalMaxPooling2D, MaxPooling2D, BatchNormalization\n",
    "from tensorflow.keras.models import Model"
   ]
  },
  {
   "cell_type": "code",
   "execution_count": 3,
   "metadata": {
    "colab": {
     "base_uri": "https://localhost:8080/"
    },
    "id": "H_EGZv1TL4S_",
    "outputId": "341788e0-e516-4c8d-ac32-234b0295e4d7"
   },
   "outputs": [
    {
     "name": "stdout",
     "output_type": "stream",
     "text": [
      "x_train.shape: (50000, 32, 32, 3)\n",
      "y_train.shape (50000,)\n"
     ]
    }
   ],
   "source": [
    "# Load in the data\n",
    "cifar10 = tf.keras.datasets.cifar10\n",
    "\n",
    "(x_train, y_train), (x_test, y_test) = cifar10.load_data()\n",
    "x_train, x_test = x_train / 255.0, x_test / 255.0\n",
    "y_train, y_test = y_train.flatten(), y_test.flatten()\n",
    "print(\"x_train.shape:\", x_train.shape)\n",
    "print(\"y_train.shape\", y_train.shape)"
   ]
  },
  {
   "cell_type": "code",
   "execution_count": 4,
   "metadata": {
    "colab": {
     "base_uri": "https://localhost:8080/"
    },
    "id": "1Wr15bYpMwbB",
    "outputId": "78753d82-a0fc-4571-b84a-36857daf196d"
   },
   "outputs": [
    {
     "name": "stdout",
     "output_type": "stream",
     "text": [
      "number of classes: 10\n"
     ]
    }
   ],
   "source": [
    "# number of classes\n",
    "K = len(set(y_train))\n",
    "print(\"number of classes:\", K)"
   ]
  },
  {
   "cell_type": "code",
   "execution_count": 5,
   "metadata": {
    "colab": {
     "base_uri": "https://localhost:8080/"
    },
    "id": "efEedtSgJYX3",
    "outputId": "8f26a3c7-fd77-4ac3-9819-0c7e07a936b1"
   },
   "outputs": [
    {
     "data": {
      "text/plain": [
       "array([[[0.23137255, 0.24313725, 0.24705882],\n",
       "        [0.16862745, 0.18039216, 0.17647059],\n",
       "        [0.19607843, 0.18823529, 0.16862745],\n",
       "        ...,\n",
       "        [0.61960784, 0.51764706, 0.42352941],\n",
       "        [0.59607843, 0.49019608, 0.4       ],\n",
       "        [0.58039216, 0.48627451, 0.40392157]],\n",
       "\n",
       "       [[0.0627451 , 0.07843137, 0.07843137],\n",
       "        [0.        , 0.        , 0.        ],\n",
       "        [0.07058824, 0.03137255, 0.        ],\n",
       "        ...,\n",
       "        [0.48235294, 0.34509804, 0.21568627],\n",
       "        [0.46666667, 0.3254902 , 0.19607843],\n",
       "        [0.47843137, 0.34117647, 0.22352941]],\n",
       "\n",
       "       [[0.09803922, 0.09411765, 0.08235294],\n",
       "        [0.0627451 , 0.02745098, 0.        ],\n",
       "        [0.19215686, 0.10588235, 0.03137255],\n",
       "        ...,\n",
       "        [0.4627451 , 0.32941176, 0.19607843],\n",
       "        [0.47058824, 0.32941176, 0.19607843],\n",
       "        [0.42745098, 0.28627451, 0.16470588]],\n",
       "\n",
       "       ...,\n",
       "\n",
       "       [[0.81568627, 0.66666667, 0.37647059],\n",
       "        [0.78823529, 0.6       , 0.13333333],\n",
       "        [0.77647059, 0.63137255, 0.10196078],\n",
       "        ...,\n",
       "        [0.62745098, 0.52156863, 0.2745098 ],\n",
       "        [0.21960784, 0.12156863, 0.02745098],\n",
       "        [0.20784314, 0.13333333, 0.07843137]],\n",
       "\n",
       "       [[0.70588235, 0.54509804, 0.37647059],\n",
       "        [0.67843137, 0.48235294, 0.16470588],\n",
       "        [0.72941176, 0.56470588, 0.11764706],\n",
       "        ...,\n",
       "        [0.72156863, 0.58039216, 0.36862745],\n",
       "        [0.38039216, 0.24313725, 0.13333333],\n",
       "        [0.3254902 , 0.20784314, 0.13333333]],\n",
       "\n",
       "       [[0.69411765, 0.56470588, 0.45490196],\n",
       "        [0.65882353, 0.50588235, 0.36862745],\n",
       "        [0.70196078, 0.55686275, 0.34117647],\n",
       "        ...,\n",
       "        [0.84705882, 0.72156863, 0.54901961],\n",
       "        [0.59215686, 0.4627451 , 0.32941176],\n",
       "        [0.48235294, 0.36078431, 0.28235294]]])"
      ]
     },
     "execution_count": 5,
     "metadata": {},
     "output_type": "execute_result"
    }
   ],
   "source": [
    "x_train[0]"
   ]
  },
  {
   "cell_type": "code",
   "execution_count": 6,
   "metadata": {
    "colab": {
     "base_uri": "https://localhost:8080/"
    },
    "id": "jq6dAK9sJZ2V",
    "outputId": "13f07753-f106-47c7-d0f0-193c9730ed65"
   },
   "outputs": [
    {
     "data": {
      "text/plain": [
       "(32, 32, 3)"
      ]
     },
     "execution_count": 6,
     "metadata": {},
     "output_type": "execute_result"
    }
   ],
   "source": [
    "x_train[0].shape"
   ]
  },
  {
   "cell_type": "code",
   "execution_count": 7,
   "metadata": {
    "id": "Mmo66uQoMA1Q"
   },
   "outputs": [],
   "source": [
    "# Build the model using the functional API\n",
    "i = Input(shape=x_train[0].shape)\n",
    "# x = Conv2D(32, (3, 3), strides=2, activation='relu')(i)\n",
    "# x = Conv2D(64, (3, 3), strides=2, activation='relu')(x)\n",
    "# x = Conv2D(128, (3, 3), strides=2, activation='relu')(x)\n",
    "\n",
    "x = Conv2D(32, (3, 3), activation='relu', padding='same')(i)\n",
    "x = BatchNormalization()(x)\n",
    "x = Conv2D(32, (3, 3), activation='relu', padding='same')(x)\n",
    "x = BatchNormalization()(x)\n",
    "x = MaxPooling2D((2, 2))(x)\n",
    "# x = Dropout(0.2)(x)\n",
    "x = Conv2D(64, (3, 3), activation='relu', padding='same')(x)\n",
    "x = BatchNormalization()(x)\n",
    "x = Conv2D(64, (3, 3), activation='relu', padding='same')(x)\n",
    "x = BatchNormalization()(x)\n",
    "x = MaxPooling2D((2, 2))(x)\n",
    "# x = Dropout(0.2)(x)\n",
    "x = Conv2D(128, (3, 3), activation='relu', padding='same')(x)\n",
    "x = BatchNormalization()(x)\n",
    "x = Conv2D(128, (3, 3), activation='relu', padding='same')(x)\n",
    "x = BatchNormalization()(x)\n",
    "x = MaxPooling2D((2, 2))(x)\n",
    "# x = Dropout(0.2)(x)\n",
    "\n",
    "# x = GlobalMaxPooling2D()(x)\n",
    "x = Flatten()(x)\n",
    "x = Dropout(0.2)(x)\n",
    "x = Dense(1024, activation='relu')(x)\n",
    "x = Dropout(0.2)(x)\n",
    "x = Dense(K, activation='softmax')(x)\n",
    "\n",
    "model = Model(i, x)"
   ]
  },
  {
   "cell_type": "code",
   "execution_count": 8,
   "metadata": {
    "id": "0zF9n0P7NcP-"
   },
   "outputs": [],
   "source": [
    "# Compile\n",
    "# Note: make sure you are using the GPU for this!\n",
    "model.compile(optimizer='adam',\n",
    "              loss='sparse_categorical_crossentropy',\n",
    "              metrics=['accuracy'])"
   ]
  },
  {
   "cell_type": "code",
   "execution_count": 9,
   "metadata": {
    "colab": {
     "base_uri": "https://localhost:8080/"
    },
    "id": "BBzAGEjOkvFz",
    "outputId": "8c27da56-24c9-43c2-d98c-f2769ed3f0bb"
   },
   "outputs": [
    {
     "name": "stdout",
     "output_type": "stream",
     "text": [
      "Epoch 1/50\n",
      "1563/1563 [==============================] - 35s 21ms/step - loss: 1.3265 - accuracy: 0.5429 - val_loss: 1.1389 - val_accuracy: 0.6106\n",
      "Epoch 2/50\n",
      "1563/1563 [==============================] - 30s 19ms/step - loss: 0.8691 - accuracy: 0.6987 - val_loss: 0.8744 - val_accuracy: 0.7011\n",
      "Epoch 3/50\n",
      "1563/1563 [==============================] - 30s 19ms/step - loss: 0.7052 - accuracy: 0.7571 - val_loss: 0.8100 - val_accuracy: 0.7210\n",
      "Epoch 4/50\n",
      "1563/1563 [==============================] - 31s 20ms/step - loss: 0.5874 - accuracy: 0.7977 - val_loss: 0.6465 - val_accuracy: 0.7877\n",
      "Epoch 5/50\n",
      "1563/1563 [==============================] - 32s 20ms/step - loss: 0.4989 - accuracy: 0.8288 - val_loss: 0.6419 - val_accuracy: 0.7874\n",
      "Epoch 6/50\n",
      "1563/1563 [==============================] - 32s 21ms/step - loss: 0.4256 - accuracy: 0.8542 - val_loss: 0.6218 - val_accuracy: 0.7941\n",
      "Epoch 7/50\n",
      "1563/1563 [==============================] - 32s 20ms/step - loss: 0.3531 - accuracy: 0.8772 - val_loss: 0.6164 - val_accuracy: 0.8092\n",
      "Epoch 8/50\n",
      "1563/1563 [==============================] - 32s 20ms/step - loss: 0.3055 - accuracy: 0.8932 - val_loss: 0.6333 - val_accuracy: 0.8100\n",
      "Epoch 9/50\n",
      "1563/1563 [==============================] - 32s 20ms/step - loss: 0.2587 - accuracy: 0.9107 - val_loss: 0.6516 - val_accuracy: 0.8027\n",
      "Epoch 10/50\n",
      "1563/1563 [==============================] - 31s 20ms/step - loss: 0.2177 - accuracy: 0.9248 - val_loss: 0.6442 - val_accuracy: 0.8216\n",
      "Epoch 11/50\n",
      "1563/1563 [==============================] - 32s 20ms/step - loss: 0.2001 - accuracy: 0.9299 - val_loss: 0.7497 - val_accuracy: 0.7825\n",
      "Epoch 12/50\n",
      "1563/1563 [==============================] - 32s 21ms/step - loss: 0.1703 - accuracy: 0.9418 - val_loss: 0.7517 - val_accuracy: 0.8248\n",
      "Epoch 13/50\n",
      "1563/1563 [==============================] - 31s 20ms/step - loss: 0.1578 - accuracy: 0.9468 - val_loss: 0.6504 - val_accuracy: 0.8272\n",
      "Epoch 14/50\n",
      "1563/1563 [==============================] - 31s 20ms/step - loss: 0.1491 - accuracy: 0.9504 - val_loss: 0.7291 - val_accuracy: 0.8227\n",
      "Epoch 15/50\n",
      "1563/1563 [==============================] - 31s 20ms/step - loss: 0.1309 - accuracy: 0.9560 - val_loss: 0.8640 - val_accuracy: 0.8094\n",
      "Epoch 16/50\n",
      "1563/1563 [==============================] - 32s 20ms/step - loss: 0.1292 - accuracy: 0.9568 - val_loss: 0.7378 - val_accuracy: 0.8257\n",
      "Epoch 17/50\n",
      "1563/1563 [==============================] - 32s 20ms/step - loss: 0.1126 - accuracy: 0.9622 - val_loss: 0.8093 - val_accuracy: 0.8179\n",
      "Epoch 18/50\n",
      "1563/1563 [==============================] - 31s 20ms/step - loss: 0.1047 - accuracy: 0.9648 - val_loss: 0.7822 - val_accuracy: 0.8332\n",
      "Epoch 19/50\n",
      "1563/1563 [==============================] - 30s 19ms/step - loss: 0.1005 - accuracy: 0.9662 - val_loss: 0.7357 - val_accuracy: 0.8337\n",
      "Epoch 20/50\n",
      "1563/1563 [==============================] - 29s 19ms/step - loss: 0.0946 - accuracy: 0.9681 - val_loss: 0.7736 - val_accuracy: 0.8206\n",
      "Epoch 21/50\n",
      "1563/1563 [==============================] - 29s 19ms/step - loss: 0.0947 - accuracy: 0.9695 - val_loss: 0.7478 - val_accuracy: 0.8282\n",
      "Epoch 22/50\n",
      "1563/1563 [==============================] - 30s 19ms/step - loss: 0.0895 - accuracy: 0.9709 - val_loss: 0.7794 - val_accuracy: 0.8296\n",
      "Epoch 23/50\n",
      "1563/1563 [==============================] - 31s 20ms/step - loss: 0.0822 - accuracy: 0.9728 - val_loss: 0.8239 - val_accuracy: 0.8231\n",
      "Epoch 24/50\n",
      "1563/1563 [==============================] - 30s 19ms/step - loss: 0.0800 - accuracy: 0.9739 - val_loss: 0.8439 - val_accuracy: 0.8334\n",
      "Epoch 25/50\n",
      "1563/1563 [==============================] - 30s 19ms/step - loss: 0.0768 - accuracy: 0.9747 - val_loss: 0.7741 - val_accuracy: 0.8368\n",
      "Epoch 26/50\n",
      "1563/1563 [==============================] - 30s 19ms/step - loss: 0.0750 - accuracy: 0.9752 - val_loss: 0.7845 - val_accuracy: 0.8406\n",
      "Epoch 27/50\n",
      "1563/1563 [==============================] - 29s 19ms/step - loss: 0.0689 - accuracy: 0.9776 - val_loss: 0.8125 - val_accuracy: 0.8357\n",
      "Epoch 28/50\n",
      "1563/1563 [==============================] - 29s 19ms/step - loss: 0.0709 - accuracy: 0.9764 - val_loss: 0.8126 - val_accuracy: 0.8275\n",
      "Epoch 29/50\n",
      "1563/1563 [==============================] - 30s 19ms/step - loss: 0.0622 - accuracy: 0.9797 - val_loss: 0.8367 - val_accuracy: 0.8318\n",
      "Epoch 30/50\n",
      "1563/1563 [==============================] - 30s 19ms/step - loss: 0.0662 - accuracy: 0.9778 - val_loss: 0.8577 - val_accuracy: 0.8388\n",
      "Epoch 31/50\n",
      "1563/1563 [==============================] - 29s 19ms/step - loss: 0.0618 - accuracy: 0.9804 - val_loss: 0.8158 - val_accuracy: 0.8251\n",
      "Epoch 32/50\n",
      "1563/1563 [==============================] - 30s 19ms/step - loss: 0.0636 - accuracy: 0.9789 - val_loss: 0.8141 - val_accuracy: 0.8310\n",
      "Epoch 33/50\n",
      "1563/1563 [==============================] - 30s 19ms/step - loss: 0.0539 - accuracy: 0.9820 - val_loss: 0.8424 - val_accuracy: 0.8354\n",
      "Epoch 34/50\n",
      "1563/1563 [==============================] - 29s 19ms/step - loss: 0.0564 - accuracy: 0.9816 - val_loss: 0.7925 - val_accuracy: 0.8403\n",
      "Epoch 35/50\n",
      "1563/1563 [==============================] - 30s 19ms/step - loss: 0.0552 - accuracy: 0.9812 - val_loss: 0.7530 - val_accuracy: 0.8326\n",
      "Epoch 36/50\n",
      "1563/1563 [==============================] - 30s 19ms/step - loss: 0.0595 - accuracy: 0.9799 - val_loss: 0.7760 - val_accuracy: 0.8379\n",
      "Epoch 37/50\n",
      "1563/1563 [==============================] - 30s 19ms/step - loss: 0.0474 - accuracy: 0.9845 - val_loss: 0.9495 - val_accuracy: 0.8348\n",
      "Epoch 38/50\n",
      "1563/1563 [==============================] - 29s 19ms/step - loss: 0.0511 - accuracy: 0.9828 - val_loss: 0.8455 - val_accuracy: 0.8374\n",
      "Epoch 39/50\n",
      "1563/1563 [==============================] - 29s 19ms/step - loss: 0.0507 - accuracy: 0.9836 - val_loss: 0.9150 - val_accuracy: 0.8261\n",
      "Epoch 40/50\n",
      "1563/1563 [==============================] - 29s 19ms/step - loss: 0.0509 - accuracy: 0.9841 - val_loss: 0.8375 - val_accuracy: 0.8306\n",
      "Epoch 41/50\n",
      "1563/1563 [==============================] - 29s 19ms/step - loss: 0.0480 - accuracy: 0.9847 - val_loss: 0.7722 - val_accuracy: 0.8365\n",
      "Epoch 42/50\n",
      "1563/1563 [==============================] - 29s 19ms/step - loss: 0.0468 - accuracy: 0.9852 - val_loss: 0.8762 - val_accuracy: 0.8350\n",
      "Epoch 43/50\n",
      "1563/1563 [==============================] - 29s 19ms/step - loss: 0.0468 - accuracy: 0.9851 - val_loss: 0.8297 - val_accuracy: 0.8382\n",
      "Epoch 44/50\n",
      "1563/1563 [==============================] - 29s 19ms/step - loss: 0.0439 - accuracy: 0.9857 - val_loss: 0.8538 - val_accuracy: 0.8474\n",
      "Epoch 45/50\n",
      "1563/1563 [==============================] - 30s 19ms/step - loss: 0.0423 - accuracy: 0.9862 - val_loss: 0.8889 - val_accuracy: 0.8390\n",
      "Epoch 46/50\n",
      "1563/1563 [==============================] - 30s 19ms/step - loss: 0.0388 - accuracy: 0.9874 - val_loss: 0.9229 - val_accuracy: 0.8399\n",
      "Epoch 47/50\n",
      "1563/1563 [==============================] - 29s 19ms/step - loss: 0.0454 - accuracy: 0.9852 - val_loss: 0.9598 - val_accuracy: 0.8330\n",
      "Epoch 48/50\n",
      "1563/1563 [==============================] - 29s 19ms/step - loss: 0.0429 - accuracy: 0.9862 - val_loss: 1.0121 - val_accuracy: 0.8349\n",
      "Epoch 49/50\n",
      "1563/1563 [==============================] - 30s 19ms/step - loss: 0.0437 - accuracy: 0.9860 - val_loss: 0.9436 - val_accuracy: 0.8390\n",
      "Epoch 50/50\n",
      "1563/1563 [==============================] - 30s 19ms/step - loss: 0.0415 - accuracy: 0.9866 - val_loss: 0.9544 - val_accuracy: 0.8397\n"
     ]
    }
   ],
   "source": [
    "# Fit\n",
    "r = model.fit(x_train, y_train, validation_data=(x_test, y_test), epochs=50)"
   ]
  },
  {
   "cell_type": "code",
   "execution_count": 10,
   "metadata": {
    "colab": {
     "base_uri": "https://localhost:8080/"
    },
    "id": "af61hXUrYjsZ",
    "outputId": "8a71ce1d-7022-47a8-9e68-d75a3cefae17"
   },
   "outputs": [
    {
     "metadata": {
      "tags": null
     },
     "name": "stderr",
     "output_type": "stream",
     "text": [
      "/usr/local/lib/python3.7/dist-packages/ipykernel_launcher.py:7: UserWarning: `Model.fit_generator` is deprecated and will be removed in a future version. Please use `Model.fit`, which supports generators.\n",
      "  import sys\n"
     ]
    },
    {
     "metadata": {
      "tags": null
     },
     "name": "stdout",
     "output_type": "stream",
     "text": [
      "Epoch 1/50\n",
      "1562/1562 [==============================] - 56s 35ms/step - loss: 0.5364 - accuracy: 0.8274 - val_loss: 0.5191 - val_accuracy: 0.8341\n",
      "Epoch 2/50\n",
      "1562/1562 [==============================] - 55s 35ms/step - loss: 0.4393 - accuracy: 0.8551 - val_loss: 0.4907 - val_accuracy: 0.8416\n",
      "Epoch 3/50\n",
      "1562/1562 [==============================] - 55s 35ms/step - loss: 0.4005 - accuracy: 0.8656 - val_loss: 0.4508 - val_accuracy: 0.8546\n",
      "Epoch 4/50\n",
      "1562/1562 [==============================] - 55s 35ms/step - loss: 0.3814 - accuracy: 0.8731 - val_loss: 0.4622 - val_accuracy: 0.8472\n",
      "Epoch 5/50\n",
      "1562/1562 [==============================] - 55s 35ms/step - loss: 0.3595 - accuracy: 0.8810 - val_loss: 0.4441 - val_accuracy: 0.8587\n",
      "Epoch 6/50\n",
      "1562/1562 [==============================] - 55s 35ms/step - loss: 0.3506 - accuracy: 0.8833 - val_loss: 0.4139 - val_accuracy: 0.8604\n",
      "Epoch 7/50\n",
      "1562/1562 [==============================] - 55s 35ms/step - loss: 0.3336 - accuracy: 0.8876 - val_loss: 0.4196 - val_accuracy: 0.8616\n",
      "Epoch 8/50\n",
      "1562/1562 [==============================] - 54s 35ms/step - loss: 0.3189 - accuracy: 0.8914 - val_loss: 0.4528 - val_accuracy: 0.8579\n",
      "Epoch 9/50\n",
      "1562/1562 [==============================] - 55s 35ms/step - loss: 0.3126 - accuracy: 0.8941 - val_loss: 0.4204 - val_accuracy: 0.8623\n",
      "Epoch 10/50\n",
      "1562/1562 [==============================] - 54s 35ms/step - loss: 0.3048 - accuracy: 0.8970 - val_loss: 0.4661 - val_accuracy: 0.8589\n",
      "Epoch 11/50\n",
      "1562/1562 [==============================] - 55s 35ms/step - loss: 0.2951 - accuracy: 0.8992 - val_loss: 0.4630 - val_accuracy: 0.8623\n",
      "Epoch 12/50\n",
      "1562/1562 [==============================] - 54s 35ms/step - loss: 0.2886 - accuracy: 0.9043 - val_loss: 0.4882 - val_accuracy: 0.8563\n",
      "Epoch 13/50\n",
      "1562/1562 [==============================] - 54s 35ms/step - loss: 0.2765 - accuracy: 0.9071 - val_loss: 0.4473 - val_accuracy: 0.8611\n",
      "Epoch 14/50\n",
      "1562/1562 [==============================] - 55s 35ms/step - loss: 0.2740 - accuracy: 0.9072 - val_loss: 0.4310 - val_accuracy: 0.8679\n",
      "Epoch 15/50\n",
      "1562/1562 [==============================] - 55s 35ms/step - loss: 0.2639 - accuracy: 0.9101 - val_loss: 0.4122 - val_accuracy: 0.8667\n",
      "Epoch 16/50\n",
      "1562/1562 [==============================] - 55s 35ms/step - loss: 0.2600 - accuracy: 0.9117 - val_loss: 0.4033 - val_accuracy: 0.8735\n",
      "Epoch 17/50\n",
      "1562/1562 [==============================] - 55s 35ms/step - loss: 0.2552 - accuracy: 0.9132 - val_loss: 0.4376 - val_accuracy: 0.8639\n",
      "Epoch 18/50\n",
      "1562/1562 [==============================] - 55s 35ms/step - loss: 0.2522 - accuracy: 0.9133 - val_loss: 0.4611 - val_accuracy: 0.8661\n",
      "Epoch 19/50\n",
      "1562/1562 [==============================] - 55s 35ms/step - loss: 0.2432 - accuracy: 0.9164 - val_loss: 0.4128 - val_accuracy: 0.8723\n",
      "Epoch 20/50\n",
      "1562/1562 [==============================] - 55s 35ms/step - loss: 0.2400 - accuracy: 0.9189 - val_loss: 0.4641 - val_accuracy: 0.8655\n",
      "Epoch 21/50\n",
      "1562/1562 [==============================] - 55s 35ms/step - loss: 0.2391 - accuracy: 0.9205 - val_loss: 0.4849 - val_accuracy: 0.8687\n",
      "Epoch 22/50\n",
      "1562/1562 [==============================] - 56s 36ms/step - loss: 0.2324 - accuracy: 0.9211 - val_loss: 0.4202 - val_accuracy: 0.8704\n",
      "Epoch 23/50\n",
      "1562/1562 [==============================] - 55s 36ms/step - loss: 0.2265 - accuracy: 0.9219 - val_loss: 0.4110 - val_accuracy: 0.8796\n",
      "Epoch 24/50\n",
      "1562/1562 [==============================] - 55s 35ms/step - loss: 0.2226 - accuracy: 0.9238 - val_loss: 0.4272 - val_accuracy: 0.8791\n",
      "Epoch 25/50\n",
      "1562/1562 [==============================] - 55s 35ms/step - loss: 0.2203 - accuracy: 0.9248 - val_loss: 0.4364 - val_accuracy: 0.8757\n",
      "Epoch 26/50\n",
      "1562/1562 [==============================] - 55s 35ms/step - loss: 0.2165 - accuracy: 0.9264 - val_loss: 0.4056 - val_accuracy: 0.8794\n",
      "Epoch 27/50\n",
      "1562/1562 [==============================] - 55s 35ms/step - loss: 0.2124 - accuracy: 0.9282 - val_loss: 0.4529 - val_accuracy: 0.8771\n",
      "Epoch 28/50\n",
      "1562/1562 [==============================] - 56s 36ms/step - loss: 0.2131 - accuracy: 0.9279 - val_loss: 0.4029 - val_accuracy: 0.8792\n",
      "Epoch 29/50\n",
      "1562/1562 [==============================] - 55s 35ms/step - loss: 0.2061 - accuracy: 0.9292 - val_loss: 0.4116 - val_accuracy: 0.8729\n",
      "Epoch 30/50\n",
      "1562/1562 [==============================] - 55s 35ms/step - loss: 0.2061 - accuracy: 0.9299 - val_loss: 0.5103 - val_accuracy: 0.8505\n",
      "Epoch 31/50\n",
      "1562/1562 [==============================] - 55s 35ms/step - loss: 0.2049 - accuracy: 0.9300 - val_loss: 0.4577 - val_accuracy: 0.8720\n",
      "Epoch 32/50\n",
      "1562/1562 [==============================] - 55s 35ms/step - loss: 0.2007 - accuracy: 0.9314 - val_loss: 0.4615 - val_accuracy: 0.8677\n",
      "Epoch 33/50\n",
      "1562/1562 [==============================] - 55s 35ms/step - loss: 0.1918 - accuracy: 0.9348 - val_loss: 0.4627 - val_accuracy: 0.8821\n",
      "Epoch 34/50\n",
      "1562/1562 [==============================] - 55s 35ms/step - loss: 0.1925 - accuracy: 0.9352 - val_loss: 0.4564 - val_accuracy: 0.8771\n",
      "Epoch 35/50\n",
      "1562/1562 [==============================] - 54s 35ms/step - loss: 0.1841 - accuracy: 0.9371 - val_loss: 0.4146 - val_accuracy: 0.8810\n",
      "Epoch 36/50\n",
      "1562/1562 [==============================] - 55s 35ms/step - loss: 0.1907 - accuracy: 0.9355 - val_loss: 0.4384 - val_accuracy: 0.8751\n",
      "Epoch 37/50\n",
      "1562/1562 [==============================] - 55s 35ms/step - loss: 0.1821 - accuracy: 0.9383 - val_loss: 0.4049 - val_accuracy: 0.8835\n",
      "Epoch 38/50\n",
      "1562/1562 [==============================] - 55s 35ms/step - loss: 0.1865 - accuracy: 0.9369 - val_loss: 0.4292 - val_accuracy: 0.8747\n",
      "Epoch 39/50\n",
      "1562/1562 [==============================] - 54s 35ms/step - loss: 0.1852 - accuracy: 0.9372 - val_loss: 0.4135 - val_accuracy: 0.8816\n",
      "Epoch 40/50\n",
      "1562/1562 [==============================] - 54s 35ms/step - loss: 0.1808 - accuracy: 0.9388 - val_loss: 0.4380 - val_accuracy: 0.8789\n",
      "Epoch 41/50\n",
      "1562/1562 [==============================] - 54s 34ms/step - loss: 0.1815 - accuracy: 0.9398 - val_loss: 0.4519 - val_accuracy: 0.8763\n",
      "Epoch 42/50\n",
      "1562/1562 [==============================] - 53s 34ms/step - loss: 0.1793 - accuracy: 0.9391 - val_loss: 0.4066 - val_accuracy: 0.8824\n",
      "Epoch 43/50\n",
      "1562/1562 [==============================] - 53s 34ms/step - loss: 0.1724 - accuracy: 0.9423 - val_loss: 0.4730 - val_accuracy: 0.8772\n",
      "Epoch 44/50\n",
      "1562/1562 [==============================] - 53s 34ms/step - loss: 0.1731 - accuracy: 0.9409 - val_loss: 0.4231 - val_accuracy: 0.8813\n",
      "Epoch 45/50\n",
      "1562/1562 [==============================] - 53s 34ms/step - loss: 0.1704 - accuracy: 0.9426 - val_loss: 0.4317 - val_accuracy: 0.8811\n",
      "Epoch 46/50\n",
      "1562/1562 [==============================] - 54s 34ms/step - loss: 0.1724 - accuracy: 0.9438 - val_loss: 0.4641 - val_accuracy: 0.8720\n",
      "Epoch 47/50\n",
      "1562/1562 [==============================] - 53s 34ms/step - loss: 0.1664 - accuracy: 0.9437 - val_loss: 0.4268 - val_accuracy: 0.8785\n",
      "Epoch 48/50\n",
      "1562/1562 [==============================] - 53s 34ms/step - loss: 0.1666 - accuracy: 0.9447 - val_loss: 0.4219 - val_accuracy: 0.8802\n",
      "Epoch 49/50\n",
      "1562/1562 [==============================] - 53s 34ms/step - loss: 0.1654 - accuracy: 0.9445 - val_loss: 0.4116 - val_accuracy: 0.8797\n",
      "Epoch 50/50\n",
      "1562/1562 [==============================] - 53s 34ms/step - loss: 0.1589 - accuracy: 0.9454 - val_loss: 0.4491 - val_accuracy: 0.8820\n"
     ]
    }
   ],
   "source": [
    "# Fit with data augmentation\n",
    "# Note: if you run this AFTER calling the previous model.fit(), it will CONTINUE training where it left off\n",
    "batch_size = 32\n",
    "data_generator = tf.keras.preprocessing.image.ImageDataGenerator(width_shift_range=0.1, height_shift_range=0.1, horizontal_flip=True)\n",
    "train_generator = data_generator.flow(x_train, y_train, batch_size)\n",
    "steps_per_epoch = x_train.shape[0] // batch_size\n",
    "r = model.fit_generator(train_generator, validation_data=(x_test, y_test), steps_per_epoch=steps_per_epoch, epochs=50)"
   ]
  },
  {
   "cell_type": "markdown",
   "metadata": {
    "id": "G7Zw6GGocfcd"
   },
   "source": [
    "**Observation:**\n",
    "\n",
    "We are getting a lower training accuracy but a higher Validation accuracy. Hence, there is lesser Overfitting. Therefore, the model has improved."
   ]
  },
  {
   "cell_type": "code",
   "execution_count": 11,
   "metadata": {
    "colab": {
     "base_uri": "https://localhost:8080/",
     "height": 285
    },
    "id": "ML37hw4iOkBm",
    "outputId": "a8123860-3297-4328-c436-f3d2012c2b18"
   },
   "outputs": [
    {
     "data": {
      "text/plain": [
       "<matplotlib.legend.Legend at 0x7ff62f14c490>"
      ]
     },
     "execution_count": null,
     "metadata": {},
     "output_type": "execute_result"
    },
    {
     "data": {
      "image/png": "[encoded data removed]",
      "text/plain": [
       "<Figure size 432x288 with 1 Axes>"
      ]
     },
     "metadata": {},
     "output_type": "display_data"
    }
   ],
   "source": [
    "# Plot loss per iteration\n",
    "import matplotlib.pyplot as plt\n",
    "plt.plot(r.history['loss'], label='loss')\n",
    "plt.plot(r.history['val_loss'], label='val_loss')\n",
    "plt.legend()"
   ]
  },
  {
   "cell_type": "markdown",
   "metadata": {
    "id": "2pMzlBtxc-sL"
   },
   "source": [
    "**Observation:**\n",
    "\n",
    "A much better learning curve than before. "
   ]
  },
  {
   "cell_type": "code",
   "execution_count": 12,
   "metadata": {
    "colab": {
     "base_uri": "https://localhost:8080/",
     "height": 283
    },
    "id": "pemstSDIOpIb",
    "outputId": "f9b92f63-17c5-43ec-fc88-5ef0620d7514"
   },
   "outputs": [
    {
     "data": {
      "text/plain": [
       "<matplotlib.legend.Legend at 0x7ff62f0a6f90>"
      ]
     },
     "execution_count": null,
     "metadata": {},
     "output_type": "execute_result"
    },
    {
     "data": {
      "image/png": "[encoded data removed]",
      "text/plain": [
       "<Figure size 432x288 with 1 Axes>"
      ]
     },
     "metadata": {},
     "output_type": "display_data"
    }
   ],
   "source": [
    "# Plot accuracy per iteration\n",
    "plt.plot(r.history['accuracy'], label='acc')\n",
    "plt.plot(r.history['val_accuracy'], label='val_acc')\n",
    "plt.legend()"
   ]
  },
  {
   "cell_type": "code",
   "execution_count": 13,
   "metadata": {
    "colab": {
     "base_uri": "https://localhost:8080/",
     "height": 502
    },
    "id": "2LJTd4OiO6kL",
    "outputId": "ff8cd472-bd5a-47eb-b1a7-67784796528b"
   },
   "outputs": [
    {
     "metadata": {
      "tags": null
     },
     "name": "stdout",
     "output_type": "stream",
     "text": [
      "Confusion matrix, without normalization\n",
      "[[914   9  26   9   3   2   2   7  18  10]\n",
      " [  3 955   0   4   0   2   0   0   6  30]\n",
      " [ 24   1 855  28  20  29  14  22   3   4]\n",
      " [  7   4  31 775  17 101  22  31   2  10]\n",
      " [  4   1  44  45 814  24  19  45   2   2]\n",
      " [  3   2  23 105  12 821   9  23   1   1]\n",
      " [  6   2  33  40   4  14 895   4   1   1]\n",
      " [  6   1   5  10  10  16   2 947   0   3]\n",
      " [ 47  13   4   3   1   6   1   2 906  17]\n",
      " [  7  37   2   1   1   2   1   4   7 938]]\n"
     ]
    },
    {
     "data": {
      "image/png": "[encoded data removed]",
      "text/plain": [
       "<Figure size 432x288 with 2 Axes>"
      ]
     },
     "metadata": {},
     "output_type": "display_data"
    }
   ],
   "source": [
    "# Plot confusion matrix\n",
    "from sklearn.metrics import confusion_matrix\n",
    "import itertools\n",
    "\n",
    "def plot_confusion_matrix(cm, classes,\n",
    "                          normalize=False,\n",
    "                          title='Confusion matrix',\n",
    "                          cmap=plt.cm.Blues):\n",
    "  \"\"\"\n",
    "  This function prints and plots the confusion matrix.\n",
    "  Normalization can be applied by setting `normalize=True`.\n",
    "  \"\"\"\n",
    "  if normalize:\n",
    "      cm = cm.astype('float') / cm.sum(axis=1)[:, np.newaxis]\n",
    "      print(\"Normalized confusion matrix\")\n",
    "  else:\n",
    "      print('Confusion matrix, without normalization')\n",
    "\n",
    "  print(cm)\n",
    "\n",
    "  plt.imshow(cm, interpolation='nearest', cmap=cmap)\n",
    "  plt.title(title)\n",
    "  plt.colorbar()\n",
    "  tick_marks = np.arange(len(classes))\n",
    "  plt.xticks(tick_marks, classes, rotation=45)\n",
    "  plt.yticks(tick_marks, classes)\n",
    "\n",
    "  fmt = '.2f' if normalize else 'd'\n",
    "  thresh = cm.max() / 2.\n",
    "  for i, j in itertools.product(range(cm.shape[0]), range(cm.shape[1])):\n",
    "      plt.text(j, i, format(cm[i, j], fmt),\n",
    "               horizontalalignment=\"center\",\n",
    "               color=\"white\" if cm[i, j] > thresh else \"black\")\n",
    "\n",
    "  plt.tight_layout()\n",
    "  plt.ylabel('True label')\n",
    "  plt.xlabel('Predicted label')\n",
    "  plt.show()\n",
    "\n",
    "\n",
    "p_test = model.predict(x_test).argmax(axis=1)\n",
    "cm = confusion_matrix(y_test, p_test)\n",
    "plot_confusion_matrix(cm, list(range(10)))\n",
    "\n"
   ]
  },
  {
   "cell_type": "markdown",
   "metadata": {
    "id": "F5Q1Ut2bd1nK"
   },
   "source": [
    "**Observation:** \n",
    "Much lesser misclassifications as promised before.\n",
    "\n",
    "\n",
    "Lets check the two most wrong predictions.\n",
    "\n",
    "a. True Label = 5, Predicted Label = 3, Value = 109\n",
    "\n",
    "b. True Label = 3, Predicted Label = 5, Value = 71\n",
    "\n",
    "c True Label = 3, Predicted Label = 6, Value = 52\n",
    "\n",
    "d. b. True Label = 7, Predicted Label = 4, Value = 20\n",
    "\n",
    "So, in 'a' and 'b', 3 and 5 are getting confused very often, i.e. the Cats and Dogs are getting confused very often. And that does make sense to me because the images are so small that its easy to confuse a cat with a dog.\n",
    "\n",
    "In 'c', 3 'cat' and 6 'frog' are getting confused too. That too makes sense to me because if we look at frog in this dataset, they just appear as little brown blobs.\n",
    "\n",
    "In 'd', 7 'horse' and 4 'deer' are getting confused too. That too makes sense to me because they are both 4 legged animal that kind of look the same. "
   ]
  },
  {
   "cell_type": "code",
   "execution_count": 14,
   "metadata": {
    "id": "AgQqQHXNXDgw"
   },
   "outputs": [],
   "source": [
    "# label mapping\n",
    "labels = '''airplane\n",
    "automobile\n",
    "bird\n",
    "cat\n",
    "deer\n",
    "dog\n",
    "frog\n",
    "horse\n",
    "ship\n",
    "truck'''.split()"
   ]
  },
  {
   "cell_type": "code",
   "execution_count": 15,
   "metadata": {
    "colab": {
     "base_uri": "https://localhost:8080/",
     "height": 281
    },
    "id": "jjmW4STFO-Ny",
    "outputId": "9a95e41e-a960-44cc-b77a-6a4512482329"
   },
   "outputs": [
    {
     "data": {
      "image/png": "[encoded data removed]",
      "text/plain": [
       "<Figure size 432x288 with 1 Axes>"
      ]
     },
     "metadata": {},
     "output_type": "display_data"
    }
   ],
   "source": [
    "# Show some misclassified examples\n",
    "misclassified_idx = np.where(p_test != y_test)[0]\n",
    "i = np.random.choice(misclassified_idx)\n",
    "plt.imshow(x_test[i], cmap='gray')\n",
    "plt.title(\"True label: %s Predicted: %s\" % (labels[y_test[i]], labels[p_test[i]]));"
   ]
  },
  {
   "cell_type": "code",
   "execution_count": 16,
   "metadata": {
    "colab": {
     "base_uri": "https://localhost:8080/",
     "height": 281
    },
    "id": "khHLAUmGSbRx",
    "outputId": "839cf35f-8c3a-4f7e-c886-cffae8c360b0"
   },
   "outputs": [
    {
     "data": {
      "image/png": "[encoded data removed]",
      "text/plain": [
       "<Figure size 432x288 with 1 Axes>"
      ]
     },
     "metadata": {},
     "output_type": "display_data"
    }
   ],
   "source": [
    "# Show some misclassified examples\n",
    "misclassified_idx = np.where(p_test != y_test)[0]\n",
    "i = np.random.choice(misclassified_idx)\n",
    "plt.imshow(x_test[i], cmap='gray')\n",
    "plt.title(\"True label: %s Predicted: %s\" % (labels[y_test[i]], labels[p_test[i]]));"
   ]
  },
  {
   "cell_type": "code",
   "execution_count": 17,
   "metadata": {
    "colab": {
     "base_uri": "https://localhost:8080/",
     "height": 281
    },
    "id": "GfQKP1QiSbXx",
    "outputId": "f4d32f40-c0c4-4b2f-be4c-3b92be3382c5"
   },
   "outputs": [
    {
     "data": {
      "image/png": "[encoded data removed]",
      "text/plain": [
       "<Figure size 432x288 with 1 Axes>"
      ]
     },
     "metadata": {},
     "output_type": "display_data"
    }
   ],
   "source": [
    "# Show some misclassified examples\n",
    "misclassified_idx = np.where(p_test != y_test)[0]\n",
    "i = np.random.choice(misclassified_idx)\n",
    "plt.imshow(x_test[i], cmap='gray')\n",
    "plt.title(\"True label: %s Predicted: %s\" % (labels[y_test[i]], labels[p_test[i]]));"
   ]
  },
  {
   "cell_type": "code",
   "execution_count": 18,
   "metadata": {
    "colab": {
     "base_uri": "https://localhost:8080/",
     "height": 281
    },
    "id": "mfdKBq6uSbfl",
    "outputId": "c93a9ce3-a0e4-4f63-d3b8-e986b5f704c4"
   },
   "outputs": [
    {
     "data": {
      "image/png": "[encoded data removed]",
      "text/plain": [
       "<Figure size 432x288 with 1 Axes>"
      ]
     },
     "metadata": {},
     "output_type": "display_data"
    }
   ],
   "source": [
    "# Show some misclassified examples\n",
    "misclassified_idx = np.where(p_test != y_test)[0]\n",
    "i = np.random.choice(misclassified_idx)\n",
    "plt.imshow(x_test[i], cmap='gray')\n",
    "plt.title(\"True label: %s Predicted: %s\" % (labels[y_test[i]], labels[p_test[i]]));"
   ]
  },
  {
   "cell_type": "code",
   "execution_count": 19,
   "metadata": {
    "colab": {
     "base_uri": "https://localhost:8080/"
    },
    "id": "qNw6PmshWjoZ",
    "outputId": "0c01eb56-c35f-44e7-d4fd-d9b36f9e31da"
   },
   "outputs": [
    {
     "metadata": {
      "tags": null
     },
     "name": "stdout",
     "output_type": "stream",
     "text": [
      "Model: \"model\"\n",
      "_________________________________________________________________\n",
      " Layer (type)                Output Shape              Param #   \n",
      "=================================================================\n",
      " input_1 (InputLayer)        [(None, 32, 32, 3)]       0         \n",
      "                                                                 \n",
      " conv2d (Conv2D)             (None, 32, 32, 32)        896       \n",
      "                                                                 \n",
      " batch_normalization (BatchN  (None, 32, 32, 32)       128       \n",
      " ormalization)                                                   \n",
      "                                                                 \n",
      " conv2d_1 (Conv2D)           (None, 32, 32, 32)        9248      \n",
      "                                                                 \n",
      " batch_normalization_1 (Batc  (None, 32, 32, 32)       128       \n",
      " hNormalization)                                                 \n",
      "                                                                 \n",
      " max_pooling2d (MaxPooling2D  (None, 16, 16, 32)       0         \n",
      " )                                                               \n",
      "                                                                 \n",
      " conv2d_2 (Conv2D)           (None, 16, 16, 64)        18496     \n",
      "                                                                 \n",
      " batch_normalization_2 (Batc  (None, 16, 16, 64)       256       \n",
      " hNormalization)                                                 \n",
      "                                                                 \n",
      " conv2d_3 (Conv2D)           (None, 16, 16, 64)        36928     \n",
      "                                                                 \n",
      " batch_normalization_3 (Batc  (None, 16, 16, 64)       256       \n",
      " hNormalization)                                                 \n",
      "                                                                 \n",
      " max_pooling2d_1 (MaxPooling  (None, 8, 8, 64)         0         \n",
      " 2D)                                                             \n",
      "                                                                 \n",
      " conv2d_4 (Conv2D)           (None, 8, 8, 128)         73856     \n",
      "                                                                 \n",
      " batch_normalization_4 (Batc  (None, 8, 8, 128)        512       \n",
      " hNormalization)                                                 \n",
      "                                                                 \n",
      " conv2d_5 (Conv2D)           (None, 8, 8, 128)         147584    \n",
      "                                                                 \n",
      " batch_normalization_5 (Batc  (None, 8, 8, 128)        512       \n",
      " hNormalization)                                                 \n",
      "                                                                 \n",
      " max_pooling2d_2 (MaxPooling  (None, 4, 4, 128)        0         \n",
      " 2D)                                                             \n",
      "                                                                 \n",
      " flatten (Flatten)           (None, 2048)              0         \n",
      "                                                                 \n",
      " dropout (Dropout)           (None, 2048)              0         \n",
      "                                                                 \n",
      " dense (Dense)               (None, 1024)              2098176   \n",
      "                                                                 \n",
      " dropout_1 (Dropout)         (None, 1024)              0         \n",
      "                                                                 \n",
      " dense_1 (Dense)             (None, 10)                10250     \n",
      "                                                                 \n",
      "=================================================================\n",
      "Total params: 2,397,226\n",
      "Trainable params: 2,396,330\n",
      "Non-trainable params: 896\n",
      "_________________________________________________________________\n"
     ]
    }
   ],
   "source": [
    "# Now that the model is so large, it's useful to summarize it\n",
    "model.summary()"
   ]
  }
 ],
 "metadata": {
  "accelerator": "GPU",
  "colab": {
   "collapsed_sections": [],
   "name": "7_CNN_CIFAR_Improved.ipynb",
   "provenance": []
  },
  "kernelspec": {
   "display_name": "Python 3",
   "language": "python",
   "name": "python3"
  },
  "language_info": {
   "codemirror_mode": {
    "name": "ipython",
    "version": 3
   },
   "file_extension": ".py",
   "mimetype": "text/x-python",
   "name": "python",
   "nbconvert_exporter": "python",
   "pygments_lexer": "ipython3",
   "version": "3.8.8"
  }
 },
 "nbformat": 4,
 "nbformat_minor": 1
}

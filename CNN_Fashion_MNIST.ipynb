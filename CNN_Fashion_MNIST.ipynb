{
 "cells": [
  {
   "cell_type": "code",
   "execution_count": 1,
   "metadata": {
    "colab": {
     "base_uri": "https://localhost:8080/"
    },
    "id": "3iKWcgC3FJc6",
    "outputId": "e357e7d9-3325-4c83-bd22-5a0822d6b69a"
   },
   "outputs": [
    {
     "name": "stdout",
     "output_type": "stream",
     "text": [
      "2.7.0\n"
     ]
    }
   ],
   "source": [
    "import tensorflow as tf\n",
    "print(tf.__version__)"
   ]
  },
  {
   "cell_type": "code",
   "execution_count": 2,
   "metadata": {
    "id": "s27zHZzWFaam"
   },
   "outputs": [],
   "source": [
    "import numpy as np\n",
    "import matplotlib.pyplot as plt\n",
    "from tensorflow.keras.layers import Input, Conv2D, Dense, Flatten, Dropout, GlobalMaxPooling2D, MaxPooling2D, BatchNormalization\n",
    "from tensorflow.keras.models import Model\n"
   ]
  },
  {
   "cell_type": "code",
   "execution_count": 3,
   "metadata": {
    "id": "ovJb6SYnGqet"
   },
   "outputs": [],
   "source": [
    "fashion_mnist = tf.keras.datasets.fashion_mnist"
   ]
  },
  {
   "cell_type": "code",
   "execution_count": 4,
   "metadata": {
    "colab": {
     "base_uri": "https://localhost:8080/"
    },
    "id": "nC1fLb5-Gq-J",
    "outputId": "afac9a95-59f0-4223-ce6c-13c34d2157af"
   },
   "outputs": [
    {
     "name": "stdout",
     "output_type": "stream",
     "text": [
      "Downloading data from https://storage.googleapis.com/tensorflow/tf-keras-datasets/train-labels-idx1-ubyte.gz\n",
      "32768/29515 [=================================] - 0s 0us/step\n",
      "40960/29515 [=========================================] - 0s 0us/step\n",
      "Downloading data from https://storage.googleapis.com/tensorflow/tf-keras-datasets/train-images-idx3-ubyte.gz\n",
      "26427392/26421880 [==============================] - 0s 0us/step\n",
      "26435584/26421880 [==============================] - 0s 0us/step\n",
      "Downloading data from https://storage.googleapis.com/tensorflow/tf-keras-datasets/t10k-labels-idx1-ubyte.gz\n",
      "16384/5148 [===============================================================================================] - 0s 0us/step\n",
      "Downloading data from https://storage.googleapis.com/tensorflow/tf-keras-datasets/t10k-images-idx3-ubyte.gz\n",
      "4423680/4422102 [==============================] - 0s 0us/step\n",
      "4431872/4422102 [==============================] - 0s 0us/step\n"
     ]
    }
   ],
   "source": [
    "(x_train, y_train), (x_test, y_test) = fashion_mnist.load_data()"
   ]
  },
  {
   "cell_type": "code",
   "execution_count": 5,
   "metadata": {
    "id": "kBD8UpuIGs58"
   },
   "outputs": [],
   "source": [
    "x_train, x_test = x_train/255.0, x_test/255.0"
   ]
  },
  {
   "cell_type": "code",
   "execution_count": 6,
   "metadata": {
    "colab": {
     "base_uri": "https://localhost:8080/"
    },
    "id": "XUmfjyfLGzU4",
    "outputId": "3f8d3d2f-78c6-4855-c5a4-f7fdeb47b4d1"
   },
   "outputs": [
    {
     "data": {
      "text/plain": [
       "(60000, 28, 28)"
      ]
     },
     "execution_count": 6,
     "metadata": {},
     "output_type": "execute_result"
    }
   ],
   "source": [
    "x_train.shape "
   ]
  },
  {
   "cell_type": "code",
   "execution_count": 7,
   "metadata": {
    "colab": {
     "base_uri": "https://localhost:8080/"
    },
    "id": "s75ESUJBG2e0",
    "outputId": "d8b9b92b-fe2c-4e09-fa9f-688857bc78d9"
   },
   "outputs": [
    {
     "name": "stdout",
     "output_type": "stream",
     "text": [
      "(60000, 28, 28, 1)\n"
     ]
    }
   ],
   "source": [
    "# Convolution expects NxHxWxC\n",
    "\n",
    "x_train = np.expand_dims(x_train, -1)\n",
    "x_test = np.expand_dims(x_test, -1)\n",
    "print(x_train.shape)"
   ]
  },
  {
   "cell_type": "code",
   "execution_count": 8,
   "metadata": {
    "colab": {
     "base_uri": "https://localhost:8080/"
    },
    "id": "FcYZ9qhYG5gc",
    "outputId": "5ed5bde5-d799-4d75-928c-a232998eb4a7"
   },
   "outputs": [
    {
     "name": "stdout",
     "output_type": "stream",
     "text": [
      "Number of classes: 10\n"
     ]
    }
   ],
   "source": [
    "# Number of classes\n",
    "\n",
    "K = len(set(y_train))\n",
    "print(\"Number of classes:\",K)"
   ]
  },
  {
   "cell_type": "code",
   "execution_count": 9,
   "metadata": {
    "colab": {
     "base_uri": "https://localhost:8080/"
    },
    "id": "hYuMbAEtG8jv",
    "outputId": "cca957aa-1763-4ab0-9945-665651d80ab6"
   },
   "outputs": [
    {
     "data": {
      "text/plain": [
       "(60000, 28, 28, 1)"
      ]
     },
     "execution_count": 9,
     "metadata": {},
     "output_type": "execute_result"
    }
   ],
   "source": [
    "x_train.shape"
   ]
  },
  {
   "cell_type": "code",
   "execution_count": 10,
   "metadata": {
    "colab": {
     "base_uri": "https://localhost:8080/"
    },
    "id": "N_I4O7yTG_QN",
    "outputId": "90db9c13-6a28-41a3-8593-74d3eeed4031"
   },
   "outputs": [
    {
     "data": {
      "text/plain": [
       "(28, 28, 1)"
      ]
     },
     "execution_count": 10,
     "metadata": {},
     "output_type": "execute_result"
    }
   ],
   "source": [
    "x_train[0].shape"
   ]
  },
  {
   "cell_type": "code",
   "execution_count": 11,
   "metadata": {
    "id": "4_AfNc5_HBPS"
   },
   "outputs": [],
   "source": [
    "# Build the model using the functional API\n",
    "i = Input(shape=x_train[0].shape)\n",
    "x = Conv2D(32, (3, 3), activation='relu', padding='same')(i)\n",
    "x = BatchNormalization()(x)\n",
    "x = Conv2D(32, (3, 3), activation='relu', padding='same')(x)\n",
    "x = BatchNormalization()(x)\n",
    "x = MaxPooling2D((2, 2))(x)\n",
    "x = Dropout(0.2)(x)\n",
    "x = Conv2D(64, (3, 3), activation='relu', padding='same')(x)\n",
    "x = BatchNormalization()(x)\n",
    "x = Conv2D(64, (3, 3), activation='relu', padding='same')(x)\n",
    "x = BatchNormalization()(x)\n",
    "x = MaxPooling2D((2, 2))(x)\n",
    "x = Dropout(0.2)(x)\n",
    "x = Conv2D(128, (3, 3), activation='relu', padding='same')(x)\n",
    "x = BatchNormalization()(x)\n",
    "x = Conv2D(128, (3, 3), activation='relu', padding='same')(x)\n",
    "x = BatchNormalization()(x)\n",
    "x = MaxPooling2D((2, 2))(x)\n",
    "x = Dropout(0.2)(x)\n",
    "\n",
    "x = GlobalMaxPooling2D()(x)\n",
    "x = Flatten()(x)\n",
    "x = Dropout(0.2)(x)\n",
    "x = Dense(1024, activation='relu')(x)\n",
    "x = Dropout(0.2)(x)\n",
    "x = Dense(K, activation='softmax')(x)\n",
    "\n",
    "model = Model(i, x)"
   ]
  },
  {
   "cell_type": "code",
   "execution_count": 12,
   "metadata": {
    "id": "qrEIGIz7H3AJ"
   },
   "outputs": [],
   "source": [
    "# Compile\n",
    "# Note: make sure you are using the GPU for this!\n",
    "model.compile(optimizer='adam',\n",
    "              loss='sparse_categorical_crossentropy',\n",
    "              metrics=['accuracy'])"
   ]
  },
  {
   "cell_type": "code",
   "execution_count": 13,
   "metadata": {
    "colab": {
     "base_uri": "https://localhost:8080/"
    },
    "id": "Npdp_TtyH6aQ",
    "outputId": "c29886a9-d4c0-4ae5-b7e3-903fd83dab16"
   },
   "outputs": [
    {
     "name": "stdout",
     "output_type": "stream",
     "text": [
      "Epoch 1/50\n",
      "1875/1875 [==============================] - 70s 21ms/step - loss: 0.5376 - accuracy: 0.8078 - val_loss: 0.3184 - val_accuracy: 0.8843\n",
      "Epoch 2/50\n",
      "1875/1875 [==============================] - 35s 19ms/step - loss: 0.3305 - accuracy: 0.8815 - val_loss: 0.3100 - val_accuracy: 0.8914\n",
      "Epoch 3/50\n",
      "1875/1875 [==============================] - 36s 19ms/step - loss: 0.2925 - accuracy: 0.8955 - val_loss: 0.2710 - val_accuracy: 0.9045\n",
      "Epoch 4/50\n",
      "1875/1875 [==============================] - 36s 19ms/step - loss: 0.2616 - accuracy: 0.9056 - val_loss: 0.3037 - val_accuracy: 0.9038\n",
      "Epoch 5/50\n",
      "1875/1875 [==============================] - 36s 19ms/step - loss: 0.2467 - accuracy: 0.9105 - val_loss: 0.2538 - val_accuracy: 0.9196\n",
      "Epoch 6/50\n",
      "1875/1875 [==============================] - 35s 19ms/step - loss: 0.2290 - accuracy: 0.9181 - val_loss: 0.2712 - val_accuracy: 0.9147\n",
      "Epoch 7/50\n",
      "1875/1875 [==============================] - 36s 19ms/step - loss: 0.2198 - accuracy: 0.9205 - val_loss: 0.2722 - val_accuracy: 0.9222\n",
      "Epoch 8/50\n",
      "1875/1875 [==============================] - 36s 19ms/step - loss: 0.2062 - accuracy: 0.9253 - val_loss: 0.3187 - val_accuracy: 0.9182\n",
      "Epoch 9/50\n",
      "1875/1875 [==============================] - 36s 19ms/step - loss: 0.1979 - accuracy: 0.9279 - val_loss: 0.3303 - val_accuracy: 0.9190\n",
      "Epoch 10/50\n",
      "1875/1875 [==============================] - 35s 19ms/step - loss: 0.1879 - accuracy: 0.9313 - val_loss: 0.2838 - val_accuracy: 0.9280\n",
      "Epoch 11/50\n",
      "1875/1875 [==============================] - 35s 19ms/step - loss: 0.1829 - accuracy: 0.9332 - val_loss: 0.2920 - val_accuracy: 0.9275\n",
      "Epoch 12/50\n",
      "1875/1875 [==============================] - 36s 19ms/step - loss: 0.1746 - accuracy: 0.9364 - val_loss: 0.3106 - val_accuracy: 0.9267\n",
      "Epoch 13/50\n",
      "1875/1875 [==============================] - 39s 21ms/step - loss: 0.1708 - accuracy: 0.9365 - val_loss: 0.3076 - val_accuracy: 0.9294\n",
      "Epoch 14/50\n",
      "1875/1875 [==============================] - 38s 20ms/step - loss: 0.1622 - accuracy: 0.9408 - val_loss: 0.3023 - val_accuracy: 0.9283\n",
      "Epoch 15/50\n",
      "1875/1875 [==============================] - 38s 20ms/step - loss: 0.1574 - accuracy: 0.9432 - val_loss: 0.2729 - val_accuracy: 0.9328\n",
      "Epoch 16/50\n",
      "1875/1875 [==============================] - 38s 20ms/step - loss: 0.1552 - accuracy: 0.9433 - val_loss: 0.3480 - val_accuracy: 0.9265\n",
      "Epoch 17/50\n",
      "1875/1875 [==============================] - 38s 20ms/step - loss: 0.1505 - accuracy: 0.9450 - val_loss: 0.2556 - val_accuracy: 0.9357\n",
      "Epoch 18/50\n",
      "1875/1875 [==============================] - 38s 20ms/step - loss: 0.1431 - accuracy: 0.9475 - val_loss: 0.2729 - val_accuracy: 0.9332\n",
      "Epoch 19/50\n",
      "1875/1875 [==============================] - 38s 20ms/step - loss: 0.1416 - accuracy: 0.9483 - val_loss: 0.3043 - val_accuracy: 0.9286\n",
      "Epoch 20/50\n",
      "1875/1875 [==============================] - 38s 21ms/step - loss: 0.1372 - accuracy: 0.9502 - val_loss: 0.3133 - val_accuracy: 0.9334\n",
      "Epoch 21/50\n",
      "1875/1875 [==============================] - 38s 20ms/step - loss: 0.1320 - accuracy: 0.9510 - val_loss: 0.2856 - val_accuracy: 0.9356\n",
      "Epoch 22/50\n",
      "1875/1875 [==============================] - 38s 20ms/step - loss: 0.1283 - accuracy: 0.9533 - val_loss: 0.3022 - val_accuracy: 0.9329\n",
      "Epoch 23/50\n",
      "1875/1875 [==============================] - 38s 20ms/step - loss: 0.1250 - accuracy: 0.9544 - val_loss: 0.3241 - val_accuracy: 0.9358\n",
      "Epoch 24/50\n",
      "1875/1875 [==============================] - 38s 20ms/step - loss: 0.1211 - accuracy: 0.9559 - val_loss: 0.3071 - val_accuracy: 0.9348\n",
      "Epoch 25/50\n",
      "1875/1875 [==============================] - 38s 20ms/step - loss: 0.1211 - accuracy: 0.9557 - val_loss: 0.2901 - val_accuracy: 0.9349\n",
      "Epoch 26/50\n",
      "1875/1875 [==============================] - 38s 20ms/step - loss: 0.1169 - accuracy: 0.9568 - val_loss: 0.3160 - val_accuracy: 0.9340\n",
      "Epoch 27/50\n",
      "1875/1875 [==============================] - 37s 20ms/step - loss: 0.1140 - accuracy: 0.9584 - val_loss: 0.2967 - val_accuracy: 0.9357\n",
      "Epoch 28/50\n",
      "1875/1875 [==============================] - 37s 20ms/step - loss: 0.1130 - accuracy: 0.9582 - val_loss: 0.3188 - val_accuracy: 0.9343\n",
      "Epoch 29/50\n",
      "1875/1875 [==============================] - 38s 20ms/step - loss: 0.1099 - accuracy: 0.9584 - val_loss: 0.3618 - val_accuracy: 0.9361\n",
      "Epoch 30/50\n",
      "1875/1875 [==============================] - 38s 20ms/step - loss: 0.1065 - accuracy: 0.9614 - val_loss: 0.3014 - val_accuracy: 0.9362\n",
      "Epoch 31/50\n",
      "1875/1875 [==============================] - 38s 20ms/step - loss: 0.1054 - accuracy: 0.9613 - val_loss: 0.2893 - val_accuracy: 0.9352\n",
      "Epoch 32/50\n",
      "1875/1875 [==============================] - 38s 20ms/step - loss: 0.1056 - accuracy: 0.9615 - val_loss: 0.3508 - val_accuracy: 0.9369\n",
      "Epoch 33/50\n",
      "1875/1875 [==============================] - 38s 20ms/step - loss: 0.1013 - accuracy: 0.9628 - val_loss: 0.3485 - val_accuracy: 0.9324\n",
      "Epoch 34/50\n",
      "1875/1875 [==============================] - 38s 20ms/step - loss: 0.1006 - accuracy: 0.9628 - val_loss: 0.3056 - val_accuracy: 0.9363\n",
      "Epoch 35/50\n",
      "1875/1875 [==============================] - 38s 20ms/step - loss: 0.0973 - accuracy: 0.9633 - val_loss: 0.3223 - val_accuracy: 0.9384\n",
      "Epoch 36/50\n",
      "1875/1875 [==============================] - 38s 20ms/step - loss: 0.0949 - accuracy: 0.9646 - val_loss: 0.3380 - val_accuracy: 0.9382\n",
      "Epoch 37/50\n",
      "1875/1875 [==============================] - 38s 20ms/step - loss: 0.0933 - accuracy: 0.9653 - val_loss: 0.3398 - val_accuracy: 0.9385\n",
      "Epoch 38/50\n",
      "1875/1875 [==============================] - 38s 20ms/step - loss: 0.0911 - accuracy: 0.9667 - val_loss: 0.3460 - val_accuracy: 0.9371\n",
      "Epoch 39/50\n",
      "1875/1875 [==============================] - 38s 20ms/step - loss: 0.0886 - accuracy: 0.9667 - val_loss: 0.3580 - val_accuracy: 0.9361\n",
      "Epoch 40/50\n",
      "1875/1875 [==============================] - 38s 20ms/step - loss: 0.0876 - accuracy: 0.9673 - val_loss: 0.3695 - val_accuracy: 0.9332\n",
      "Epoch 41/50\n",
      "1875/1875 [==============================] - 38s 20ms/step - loss: 0.0887 - accuracy: 0.9670 - val_loss: 0.3270 - val_accuracy: 0.9364\n",
      "Epoch 42/50\n",
      "1875/1875 [==============================] - 39s 21ms/step - loss: 0.0836 - accuracy: 0.9696 - val_loss: 0.3758 - val_accuracy: 0.9365\n",
      "Epoch 43/50\n",
      "1875/1875 [==============================] - 38s 20ms/step - loss: 0.0843 - accuracy: 0.9690 - val_loss: 0.3665 - val_accuracy: 0.9367\n",
      "Epoch 44/50\n",
      "1875/1875 [==============================] - 38s 20ms/step - loss: 0.0821 - accuracy: 0.9696 - val_loss: 0.3940 - val_accuracy: 0.9266\n",
      "Epoch 45/50\n",
      "1875/1875 [==============================] - 38s 20ms/step - loss: 0.0843 - accuracy: 0.9694 - val_loss: 0.3411 - val_accuracy: 0.9372\n",
      "Epoch 46/50\n",
      "1875/1875 [==============================] - 38s 20ms/step - loss: 0.0806 - accuracy: 0.9705 - val_loss: 0.3493 - val_accuracy: 0.9361\n",
      "Epoch 47/50\n",
      "1875/1875 [==============================] - 38s 21ms/step - loss: 0.0795 - accuracy: 0.9707 - val_loss: 0.3796 - val_accuracy: 0.9345\n",
      "Epoch 48/50\n",
      "1875/1875 [==============================] - 38s 20ms/step - loss: 0.0801 - accuracy: 0.9704 - val_loss: 0.4169 - val_accuracy: 0.9355\n",
      "Epoch 49/50\n",
      "1875/1875 [==============================] - 38s 20ms/step - loss: 0.0766 - accuracy: 0.9717 - val_loss: 0.4039 - val_accuracy: 0.9391\n",
      "Epoch 50/50\n",
      "1875/1875 [==============================] - 37s 20ms/step - loss: 0.0757 - accuracy: 0.9715 - val_loss: 0.4053 - val_accuracy: 0.9365\n"
     ]
    }
   ],
   "source": [
    "# Fit\n",
    "r = model.fit(x_train, y_train, validation_data=(x_test, y_test), epochs=50)"
   ]
  },
  {
   "cell_type": "markdown",
   "metadata": {
    "id": "jJrbhaM-RFxF"
   },
   "source": [
    "Observation:\n",
    "\n",
    "We are getting a Overfitting Model and Using Some More Hyper Parameters we are going to Will Try."
   ]
  },
  {
   "cell_type": "code",
   "execution_count": 15,
   "metadata": {
    "colab": {
     "base_uri": "https://localhost:8080/"
    },
    "id": "1QsaIuniQ9ou",
    "outputId": "fd8488ff-021a-4b5b-ec49-7a50b23e76dd"
   },
   "outputs": [
    {
     "name": "stderr",
     "output_type": "stream",
     "text": [
      "/usr/local/lib/python3.7/dist-packages/ipykernel_launcher.py:7: UserWarning: `Model.fit_generator` is deprecated and will be removed in a future version. Please use `Model.fit`, which supports generators.\n",
      "  import sys\n"
     ]
    },
    {
     "name": "stdout",
     "output_type": "stream",
     "text": [
      "Epoch 1/50\n",
      "1875/1875 [==============================] - 48s 25ms/step - loss: 0.3433 - accuracy: 0.8803 - val_loss: 0.2408 - val_accuracy: 0.9307\n",
      "Epoch 2/50\n",
      "1875/1875 [==============================] - 46s 25ms/step - loss: 0.2782 - accuracy: 0.9005 - val_loss: 0.2381 - val_accuracy: 0.9301\n",
      "Epoch 3/50\n",
      "1875/1875 [==============================] - 47s 25ms/step - loss: 0.2627 - accuracy: 0.9053 - val_loss: 0.2329 - val_accuracy: 0.9325\n",
      "Epoch 4/50\n",
      "1875/1875 [==============================] - 47s 25ms/step - loss: 0.2511 - accuracy: 0.9095 - val_loss: 0.2683 - val_accuracy: 0.9168\n",
      "Epoch 5/50\n",
      "1875/1875 [==============================] - 47s 25ms/step - loss: 0.2451 - accuracy: 0.9116 - val_loss: 0.2494 - val_accuracy: 0.9313\n",
      "Epoch 6/50\n",
      "1875/1875 [==============================] - 47s 25ms/step - loss: 0.2392 - accuracy: 0.9121 - val_loss: 0.2234 - val_accuracy: 0.9323\n",
      "Epoch 7/50\n",
      "1875/1875 [==============================] - 47s 25ms/step - loss: 0.2347 - accuracy: 0.9151 - val_loss: 0.2381 - val_accuracy: 0.9295\n",
      "Epoch 8/50\n",
      "1875/1875 [==============================] - 47s 25ms/step - loss: 0.2254 - accuracy: 0.9183 - val_loss: 0.2147 - val_accuracy: 0.9308\n",
      "Epoch 9/50\n",
      "1875/1875 [==============================] - 46s 25ms/step - loss: 0.2263 - accuracy: 0.9162 - val_loss: 0.2400 - val_accuracy: 0.9335\n",
      "Epoch 10/50\n",
      "1875/1875 [==============================] - 47s 25ms/step - loss: 0.2215 - accuracy: 0.9197 - val_loss: 0.2340 - val_accuracy: 0.9303\n",
      "Epoch 11/50\n",
      "1875/1875 [==============================] - 47s 25ms/step - loss: 0.2201 - accuracy: 0.9189 - val_loss: 0.2297 - val_accuracy: 0.9298\n",
      "Epoch 12/50\n",
      "1875/1875 [==============================] - 48s 25ms/step - loss: 0.2162 - accuracy: 0.9220 - val_loss: 0.2261 - val_accuracy: 0.9317\n",
      "Epoch 13/50\n",
      "1875/1875 [==============================] - 47s 25ms/step - loss: 0.2125 - accuracy: 0.9225 - val_loss: 0.2191 - val_accuracy: 0.9314\n",
      "Epoch 14/50\n",
      "1875/1875 [==============================] - 48s 25ms/step - loss: 0.2123 - accuracy: 0.9230 - val_loss: 0.2474 - val_accuracy: 0.9301\n",
      "Epoch 15/50\n",
      "1875/1875 [==============================] - 47s 25ms/step - loss: 0.2119 - accuracy: 0.9225 - val_loss: 0.2230 - val_accuracy: 0.9348\n",
      "Epoch 16/50\n",
      "1875/1875 [==============================] - 48s 26ms/step - loss: 0.2040 - accuracy: 0.9266 - val_loss: 0.2395 - val_accuracy: 0.9266\n",
      "Epoch 17/50\n",
      "1875/1875 [==============================] - 48s 25ms/step - loss: 0.2080 - accuracy: 0.9249 - val_loss: 0.2248 - val_accuracy: 0.9355\n",
      "Epoch 18/50\n",
      "1875/1875 [==============================] - 47s 25ms/step - loss: 0.1992 - accuracy: 0.9266 - val_loss: 0.2109 - val_accuracy: 0.9372\n",
      "Epoch 19/50\n",
      "1875/1875 [==============================] - 47s 25ms/step - loss: 0.1995 - accuracy: 0.9278 - val_loss: 0.2355 - val_accuracy: 0.9317\n",
      "Epoch 20/50\n",
      "1875/1875 [==============================] - 47s 25ms/step - loss: 0.2012 - accuracy: 0.9278 - val_loss: 0.2039 - val_accuracy: 0.9350\n",
      "Epoch 21/50\n",
      "1875/1875 [==============================] - 47s 25ms/step - loss: 0.1950 - accuracy: 0.9296 - val_loss: 0.2268 - val_accuracy: 0.9313\n",
      "Epoch 22/50\n",
      "1875/1875 [==============================] - 48s 25ms/step - loss: 0.1954 - accuracy: 0.9284 - val_loss: 0.2251 - val_accuracy: 0.9311\n",
      "Epoch 23/50\n",
      "1875/1875 [==============================] - 48s 25ms/step - loss: 0.1946 - accuracy: 0.9282 - val_loss: 0.2126 - val_accuracy: 0.9343\n",
      "Epoch 24/50\n",
      "1875/1875 [==============================] - 47s 25ms/step - loss: 0.1904 - accuracy: 0.9309 - val_loss: 0.2394 - val_accuracy: 0.9330\n",
      "Epoch 25/50\n",
      "1875/1875 [==============================] - 47s 25ms/step - loss: 0.1896 - accuracy: 0.9304 - val_loss: 0.2259 - val_accuracy: 0.9351\n",
      "Epoch 26/50\n",
      "1875/1875 [==============================] - 48s 25ms/step - loss: 0.1905 - accuracy: 0.9300 - val_loss: 0.2044 - val_accuracy: 0.9378\n",
      "Epoch 27/50\n",
      "1875/1875 [==============================] - 47s 25ms/step - loss: 0.1870 - accuracy: 0.9307 - val_loss: 0.1987 - val_accuracy: 0.9372\n",
      "Epoch 28/50\n",
      "1875/1875 [==============================] - 47s 25ms/step - loss: 0.1888 - accuracy: 0.9315 - val_loss: 0.2207 - val_accuracy: 0.9351\n",
      "Epoch 29/50\n",
      "1875/1875 [==============================] - 47s 25ms/step - loss: 0.1878 - accuracy: 0.9316 - val_loss: 0.2250 - val_accuracy: 0.9335\n",
      "Epoch 30/50\n",
      "1875/1875 [==============================] - 48s 25ms/step - loss: 0.1854 - accuracy: 0.9330 - val_loss: 0.2452 - val_accuracy: 0.9304\n",
      "Epoch 31/50\n",
      "1875/1875 [==============================] - 47s 25ms/step - loss: 0.1836 - accuracy: 0.9325 - val_loss: 0.2321 - val_accuracy: 0.9335\n",
      "Epoch 32/50\n",
      "1875/1875 [==============================] - 46s 25ms/step - loss: 0.1836 - accuracy: 0.9340 - val_loss: 0.2342 - val_accuracy: 0.9326\n",
      "Epoch 33/50\n",
      "1875/1875 [==============================] - 47s 25ms/step - loss: 0.1816 - accuracy: 0.9331 - val_loss: 0.1998 - val_accuracy: 0.9381\n",
      "Epoch 34/50\n",
      "1875/1875 [==============================] - 47s 25ms/step - loss: 0.1797 - accuracy: 0.9353 - val_loss: 0.2043 - val_accuracy: 0.9376\n",
      "Epoch 35/50\n",
      "1875/1875 [==============================] - 48s 25ms/step - loss: 0.1804 - accuracy: 0.9324 - val_loss: 0.2292 - val_accuracy: 0.9337\n",
      "Epoch 36/50\n",
      "1875/1875 [==============================] - 47s 25ms/step - loss: 0.1782 - accuracy: 0.9339 - val_loss: 0.2189 - val_accuracy: 0.9351\n",
      "Epoch 37/50\n",
      "1875/1875 [==============================] - 48s 25ms/step - loss: 0.1789 - accuracy: 0.9348 - val_loss: 0.2149 - val_accuracy: 0.9364\n",
      "Epoch 38/50\n",
      "1875/1875 [==============================] - 48s 25ms/step - loss: 0.1761 - accuracy: 0.9358 - val_loss: 0.2138 - val_accuracy: 0.9348\n",
      "Epoch 39/50\n",
      "1875/1875 [==============================] - 47s 25ms/step - loss: 0.1780 - accuracy: 0.9348 - val_loss: 0.2120 - val_accuracy: 0.9361\n",
      "Epoch 40/50\n",
      "1875/1875 [==============================] - 48s 26ms/step - loss: 0.1758 - accuracy: 0.9349 - val_loss: 0.2057 - val_accuracy: 0.9358\n",
      "Epoch 41/50\n",
      "1875/1875 [==============================] - 48s 26ms/step - loss: 0.1713 - accuracy: 0.9359 - val_loss: 0.2110 - val_accuracy: 0.9384\n",
      "Epoch 42/50\n",
      "1875/1875 [==============================] - 47s 25ms/step - loss: 0.1739 - accuracy: 0.9371 - val_loss: 0.1989 - val_accuracy: 0.9414\n",
      "Epoch 43/50\n",
      "1875/1875 [==============================] - 47s 25ms/step - loss: 0.1731 - accuracy: 0.9372 - val_loss: 0.2132 - val_accuracy: 0.9393\n",
      "Epoch 44/50\n",
      "1875/1875 [==============================] - 47s 25ms/step - loss: 0.1730 - accuracy: 0.9362 - val_loss: 0.2125 - val_accuracy: 0.9372\n",
      "Epoch 45/50\n",
      "1875/1875 [==============================] - 47s 25ms/step - loss: 0.1703 - accuracy: 0.9367 - val_loss: 0.2092 - val_accuracy: 0.9391\n",
      "Epoch 46/50\n",
      "1875/1875 [==============================] - 46s 25ms/step - loss: 0.1684 - accuracy: 0.9387 - val_loss: 0.2179 - val_accuracy: 0.9371\n",
      "Epoch 47/50\n",
      "1875/1875 [==============================] - 47s 25ms/step - loss: 0.1715 - accuracy: 0.9370 - val_loss: 0.2164 - val_accuracy: 0.9369\n",
      "Epoch 48/50\n",
      "1875/1875 [==============================] - 47s 25ms/step - loss: 0.1733 - accuracy: 0.9370 - val_loss: 0.1971 - val_accuracy: 0.9364\n",
      "Epoch 49/50\n",
      "1875/1875 [==============================] - 47s 25ms/step - loss: 0.1707 - accuracy: 0.9370 - val_loss: 0.2118 - val_accuracy: 0.9351\n",
      "Epoch 50/50\n",
      "1875/1875 [==============================] - 47s 25ms/step - loss: 0.1672 - accuracy: 0.9380 - val_loss: 0.2100 - val_accuracy: 0.9362\n"
     ]
    }
   ],
   "source": [
    "# Fit with data augmentation\n",
    "# Note: if you run this AFTER calling the previous model.fit(), it will CONTINUE training where it left off\n",
    "batch_size = 32\n",
    "data_generator = tf.keras.preprocessing.image.ImageDataGenerator(width_shift_range=0.1, height_shift_range=0.1, horizontal_flip=True)\n",
    "train_generator = data_generator.flow(x_train, y_train, batch_size)\n",
    "steps_per_epoch = x_train.shape[0] // batch_size\n",
    "r = model.fit_generator(train_generator, validation_data=(x_test, y_test), steps_per_epoch=steps_per_epoch, epochs=50)"
   ]
  },
  {
   "cell_type": "markdown",
   "metadata": {
    "id": "RQsKNKT4cm75"
   },
   "source": [
    "Observation:\n",
    "\n",
    "We are getting a lower training accuracy but a higher Validation accuracy. Hence, there is lesser Overfitting. Therefore, the model has improved."
   ]
  },
  {
   "cell_type": "code",
   "execution_count": 16,
   "metadata": {
    "colab": {
     "base_uri": "https://localhost:8080/",
     "height": 285
    },
    "id": "8_o-vI0IH9wL",
    "outputId": "fb9a403e-9a70-47e0-9368-0bd1139420a1"
   },
   "outputs": [
    {
     "data": {
      "text/plain": [
       "<matplotlib.legend.Legend at 0x7f54500d3e50>"
      ]
     },
     "execution_count": 16,
     "metadata": {},
     "output_type": "execute_result"
    },
    {
     "data": {
      "image/png": "[encoded data removed]",
      "text/plain": [
       "<Figure size 432x288 with 1 Axes>"
      ]
     },
     "metadata": {
      "needs_background": "light"
     },
     "output_type": "display_data"
    }
   ],
   "source": [
    "# Plot loss per iteration\n",
    "import matplotlib.pyplot as plt\n",
    "plt.plot(r.history['loss'], label='loss')\n",
    "plt.plot(r.history['val_loss'], label='val_loss')\n",
    "plt.legend()"
   ]
  },
  {
   "cell_type": "markdown",
   "metadata": {
    "id": "LD84qxS6dISp"
   },
   "source": [
    "Observation:\n",
    "\n",
    "A much better learning curve than before."
   ]
  },
  {
   "cell_type": "code",
   "execution_count": 18,
   "metadata": {
    "colab": {
     "base_uri": "https://localhost:8080/",
     "height": 283
    },
    "id": "y0jX5uzydJZg",
    "outputId": "a0d9e682-b31a-4e85-9b22-52f6abb4db92"
   },
   "outputs": [
    {
     "data": {
      "text/plain": [
       "<matplotlib.legend.Legend at 0x7f53dc4343d0>"
      ]
     },
     "execution_count": 18,
     "metadata": {},
     "output_type": "execute_result"
    },
    {
     "data": {
      "image/png": "[encoded data removed]",
      "text/plain": [
       "<Figure size 432x288 with 1 Axes>"
      ]
     },
     "metadata": {
      "needs_background": "light"
     },
     "output_type": "display_data"
    }
   ],
   "source": [
    "# Plot accuracy per iteration\n",
    "plt.plot(r.history['accuracy'], label='acc')\n",
    "plt.plot(r.history['val_accuracy'], label='val_acc')\n",
    "plt.legend()"
   ]
  },
  {
   "cell_type": "code",
   "execution_count": 19,
   "metadata": {
    "colab": {
     "base_uri": "https://localhost:8080/",
     "height": 502
    },
    "id": "qUR2Vo2jdOBs",
    "outputId": "9444a68c-e164-4bae-eb80-113048831673"
   },
   "outputs": [
    {
     "name": "stdout",
     "output_type": "stream",
     "text": [
      "Confusion matrix, without normalization\n",
      "[[860   1  15  16   4   1  97   0   5   1]\n",
      " [  0 992   0   6   0   0   0   0   2   0]\n",
      " [ 13   0 909   8  33   0  37   0   0   0]\n",
      " [  4   5   9 945  19   0  17   0   1   0]\n",
      " [  1   1  21  17 917   0  42   0   1   0]\n",
      " [  0   0   0   0   0 990   0   8   0   2]\n",
      " [ 82   0  37  20  44   0 815   0   2   0]\n",
      " [  0   0   0   0   0   6   0 983   0  11]\n",
      " [  1   1   0   1   1   2   2   0 992   0]\n",
      " [  0   0   0   0   0   6   0  35   0 959]]\n"
     ]
    },
    {
     "data": {
      "image/png": "[encoded data removed]",
      "text/plain": [
       "<Figure size 432x288 with 2 Axes>"
      ]
     },
     "metadata": {
      "needs_background": "light"
     },
     "output_type": "display_data"
    }
   ],
   "source": [
    "# Plot confusion matrix\n",
    "from sklearn.metrics import confusion_matrix\n",
    "import itertools\n",
    "\n",
    "def plot_confusion_matrix(cm, classes,\n",
    "                          normalize=False,\n",
    "                          title='Confusion matrix',\n",
    "                          cmap=plt.cm.Blues):\n",
    "  \"\"\"\n",
    "  This function prints and plots the confusion matrix.\n",
    "  Normalization can be applied by setting `normalize=True`.\n",
    "  \"\"\"\n",
    "  if normalize:\n",
    "      cm = cm.astype('float') / cm.sum(axis=1)[:, np.newaxis]\n",
    "      print(\"Normalized confusion matrix\")\n",
    "  else:\n",
    "      print('Confusion matrix, without normalization')\n",
    "\n",
    "  print(cm)\n",
    "\n",
    "  plt.imshow(cm, interpolation='nearest', cmap=cmap)\n",
    "  plt.title(title)\n",
    "  plt.colorbar()\n",
    "  tick_marks = np.arange(len(classes))\n",
    "  plt.xticks(tick_marks, classes, rotation=45)\n",
    "  plt.yticks(tick_marks, classes)\n",
    "\n",
    "  fmt = '.2f' if normalize else 'd'\n",
    "  thresh = cm.max() / 2.\n",
    "  for i, j in itertools.product(range(cm.shape[0]), range(cm.shape[1])):\n",
    "      plt.text(j, i, format(cm[i, j], fmt),\n",
    "               horizontalalignment=\"center\",\n",
    "               color=\"white\" if cm[i, j] > thresh else \"black\")\n",
    "\n",
    "  plt.tight_layout()\n",
    "  plt.ylabel('True label')\n",
    "  plt.xlabel('Predicted label')\n",
    "  plt.show()\n",
    "\n",
    "\n",
    "p_test = model.predict(x_test).argmax(axis=1)\n",
    "cm = confusion_matrix(y_test, p_test)\n",
    "plot_confusion_matrix(cm, list(range(10)))\n",
    "\n"
   ]
  },
  {
   "cell_type": "markdown",
   "metadata": {
    "id": "5ab2yqc9droK"
   },
   "source": [
    "bservation: Much lesser misclassifications as promised before.\n",
    "\n",
    "Lets check the two most wrong predictions.\n",
    "\n",
    "a. True Label = 0, Predicted Label = 6, Value = 97\n",
    "\n",
    "b. True Label = 6, Predicted Label = 0, Value = 82\n",
    "\n",
    "\n",
    "So, in 'a' and 'b', 0 and 6 are getting confused very often, i.e. the T-shirt/top and Shirts are getting confused very often. And that does make sense to me because the images are so small that its easy to confuse a T-shirt/top with a Shirt.\n"
   ]
  },
  {
   "cell_type": "code",
   "execution_count": 23,
   "metadata": {
    "colab": {
     "base_uri": "https://localhost:8080/"
    },
    "id": "60iuHALPe6VJ",
    "outputId": "06f23b2d-80bb-4703-9d58-45f1b592f87f"
   },
   "outputs": [
    {
     "data": {
      "text/plain": [
       "['T-shirt/top',\n",
       " '            Trouser',\n",
       " '            Pullover',\n",
       " '            Dress',\n",
       " '            Coat',\n",
       " '            Sandal',\n",
       " '            Shirt',\n",
       " '            Sneaker',\n",
       " '            Bag',\n",
       " '            Ankle boot']"
      ]
     },
     "execution_count": 23,
     "metadata": {},
     "output_type": "execute_result"
    }
   ],
   "source": [
    "# Label mapping\n",
    "labels = '''T-shirt/top\n",
    "            Trouser\n",
    "            Pullover\n",
    "            Dress\n",
    "            Coat\n",
    "            Sandal\n",
    "            Shirt\n",
    "            Sneaker\n",
    "            Bag\n",
    "            Ankle boot'''.split(\"\\n\")\n",
    "labels"
   ]
  },
  {
   "cell_type": "code",
   "execution_count": 24,
   "metadata": {
    "colab": {
     "base_uri": "https://localhost:8080/",
     "height": 281
    },
    "id": "CZZ8F465e69S",
    "outputId": "12b9b725-09dd-469c-dcac-83eba9262f32"
   },
   "outputs": [
    {
     "data": {
      "image/png": "[encoded data removed]",
      "text/plain": [
       "<Figure size 432x288 with 1 Axes>"
      ]
     },
     "metadata": {
      "needs_background": "light"
     },
     "output_type": "display_data"
    }
   ],
   "source": [
    "# Lets see some of the misclassified examples\n",
    "\n",
    "misclassified_idx = np.where(p_test != y_test)[0]\n",
    "i = np.random.choice(misclassified_idx)\n",
    "plt.imshow(x_test[i].reshape(28,28), cmap= 'gray')\n",
    "plt.title(\"True label: %s Predicted: %s\" %(labels[y_test[i]], labels[p_test[i]]))\n",
    "plt.show()"
   ]
  },
  {
   "cell_type": "code",
   "execution_count": 25,
   "metadata": {
    "colab": {
     "base_uri": "https://localhost:8080/",
     "height": 281
    },
    "id": "c_x1pB63e-i0",
    "outputId": "bb64dc56-36e5-4638-c2b4-f68c970b281a"
   },
   "outputs": [
    {
     "data": {
      "image/png": "[encoded data removed]",
      "text/plain": [
       "<Figure size 432x288 with 1 Axes>"
      ]
     },
     "metadata": {
      "needs_background": "light"
     },
     "output_type": "display_data"
    }
   ],
   "source": [
    "misclassified_idx = np.where(p_test != y_test)[0]\n",
    "i = np.random.choice(misclassified_idx)\n",
    "plt.imshow(x_test[i].reshape(28,28), cmap= 'gray')\n",
    "plt.title(\"True label: %s Predicted: %s\" %(labels[y_test[i]], labels[p_test[i]]))\n",
    "plt.show()"
   ]
  },
  {
   "cell_type": "code",
   "execution_count": null,
   "metadata": {
    "id": "MA1ZRlt2fw0i"
   },
   "outputs": [],
   "source": []
  }
 ],
 "metadata": {
  "accelerator": "GPU",
  "colab": {
   "collapsed_sections": [],
   "name": "CNN_Fashion_MNIST_Improved.ipynb",
   "provenance": []
  },
  "kernelspec": {
   "display_name": "Python 3",
   "language": "python",
   "name": "python3"
  },
  "language_info": {
   "codemirror_mode": {
    "name": "ipython",
    "version": 3
   },
   "file_extension": ".py",
   "mimetype": "text/x-python",
   "name": "python",
   "nbconvert_exporter": "python",
   "pygments_lexer": "ipython3",
   "version": "3.8.8"
  }
 },
 "nbformat": 4,
 "nbformat_minor": 1
}
